{
 "cells": [
  {
   "cell_type": "code",
   "execution_count": 101,
   "metadata": {},
   "outputs": [],
   "source": [
    "# imports\n",
    "import matplotlib\n",
    "import matplotlib.pyplot as plt\n",
    "%matplotlib inline\n",
    "matplotlib.rcParams['figure.figsize'] = [9, 6]\n",
    "matplotlib.rcParams['font.size'] = 11\n",
    "import numpy as np"
   ]
  },
  {
   "cell_type": "markdown",
   "metadata": {},
   "source": [
    "# p-terphenyl crystals\n",
    "\n",
    "## calculations"
   ]
  },
  {
   "cell_type": "code",
   "execution_count": 75,
   "metadata": {},
   "outputs": [
    {
     "name": "stdout",
     "output_type": "stream",
     "text": [
      "[[16284.62926413 16284.25800778]] [[-0.37125635]]\n",
      "N_eff [28.270762281905316, 47.33901587569755]\n",
      "dlambda/lambda [1.0302385184739012e-06, 7.69064484571405e-08]\n",
      "Dlambda_FSR\n",
      " [[0.03771039 0.03771125]\n",
      " [0.00471376 0.00471387]]\n",
      "Dnubar_FSR\n",
      " [[1.00003864 1.00001584]\n",
      " [0.12500387 0.12500102]]\n",
      "transmission [0.9800999999999999, 0.9674818597151305] 0.9482289707067992\n",
      "[[0.50369377 0.32253037]\n",
      " [0.45089856 0.23157542]]\n"
     ]
    }
   ],
   "source": [
    "wavelength = np.array([614.076, 614.090])[None, :] #nm\n",
    "wavelength /= 1e7 #cm\n",
    "nubar = 1 / wavelength\n",
    "print(nubar, np.diff(nubar))\n",
    "\n",
    "spacing = np.array([0.5, 4])[:, None] #cm\n",
    "reflectance = np.array([.9, .939])[:, None]\n",
    "absorbance = .001\n",
    "transmittance = 1 - reflectance - absorbance\n",
    "p = np.array([16284, 130273])[:, None]\n",
    "\n",
    "coFin = 4 * reflectance / (1 - reflectance) ** 2\n",
    "\n",
    "nEff = 1.49 * np.sqrt(coFin)\n",
    "print(\"N_eff\", list(nEff.flat))\n",
    "\n",
    "theta = np.arccos(p * wavelength / (2 * spacing))\n",
    "\n",
    "print(\"dlambda/lambda\", list((1/(np.pi * p * np.sqrt(coFin))).flat))\n",
    "\n",
    "print('Dlambda_FSR\\n', wavelength * 1e7 / p)\n",
    "\n",
    "print('Dnubar_FSR\\n', 1/(2 * spacing * np.cos(theta)))\n",
    "transmission = 1 / ((1 + absorbance / transmittance) ** 2 * (1 + coFin * np.sin(np.pi * p) ** 2))\n",
    "print('transmission', list(transmission.flat), np.prod(transmission))\n",
    "\n",
    "print(theta * 180 / np.pi)"
   ]
  },
  {
   "cell_type": "markdown",
   "metadata": {},
   "source": [
    "## sketch"
   ]
  },
  {
   "cell_type": "code",
   "execution_count": 102,
   "metadata": {},
   "outputs": [
    {
     "data": {
      "text/plain": [
       "[<matplotlib.lines.Line2D at 0x7f7ce23c1898>]"
      ]
     },
     "execution_count": 102,
     "metadata": {},
     "output_type": "execute_result"
    },
    {
     "data": {
      "image/png": "[encoded data removed]",
      "text/plain": [
       "<Figure size 648x432 with 1 Axes>"
      ]
     },
     "metadata": {},
     "output_type": "display_data"
    }
   ],
   "source": [
    "def lorentzian(freq, gamma, omega):\n",
    "    return(gamma/((freq-omega)**2+gamma**2))\n",
    "\n",
    "omega = 16284.25800778\n",
    "FSR = 0.12500102\n",
    "f = np.linspace(omega - FSR, omega + FSR, 1000)\n",
    "plt.plot(f, lorentzian(f, 0.002, omega))"
   ]
  },
  {
   "cell_type": "markdown",
   "metadata": {},
   "source": [
    "## adequate resolution?\n",
    "\n",
    "There is adequate resolution in this configuration, the first etalon provides one wavenumber of FSR, thus we will not see the other peak. The second etalon provides a fine enough resolution to resolve out the peak."
   ]
  },
  {
   "cell_type": "markdown",
   "metadata": {},
   "source": [
    "# Absorption experiment\n",
    "\n",
    "## intensity\n",
    "\n",
    "The variation in intensity is largely what I'd expect for a low reflectance etalon (~2-3%, perhaps). The fact that it affects both the reference and sample with approximately equal variation lends credence to the assertion that this is an etalon.\n",
    "\n",
    "## position of fringes"
   ]
  },
  {
   "cell_type": "code",
   "execution_count": 92,
   "metadata": {},
   "outputs": [
    {
     "name": "stdout",
     "output_type": "stream",
     "text": [
      "[-3.48142624]\n",
      "81.78678929826182\n",
      "0.0\n"
     ]
    }
   ],
   "source": [
    "wavelength = np.array([489, 489.5])\n",
    "wavelength /= 1e7\n",
    "nubar = 1 / wavelength\n",
    "print(np.diff(nubar) / 6)\n",
    "\n",
    "print(np.arccos(1/(3.5 * 2 * 1)) * 180 / np.pi)\n",
    "print(np.arccos(1/(.5 * 2 * 1)) * 180 / np.pi)"
   ]
  },
  {
   "cell_type": "markdown",
   "metadata": {},
   "source": [
    "The fringes are spaced at approximatly 3.5 wn. This corresponds to an unrealistic angle of incidence required to match the FSR.\n",
    "At normal incidence, fringes would be spaced every 0.5 wn."
   ]
  },
  {
   "cell_type": "markdown",
   "metadata": {},
   "source": [
    "# Environmental chemistry\n",
    "\n",
    "## effective path length"
   ]
  },
  {
   "cell_type": "code",
   "execution_count": 95,
   "metadata": {},
   "outputs": [
    {
     "name": "stdout",
     "output_type": "stream",
     "text": [
      "N_eff (m) 297.9850996275143\n"
     ]
    }
   ],
   "source": [
    "spacing = 100 #cm\n",
    "reflectance = .9999\n",
    "absorbance =  .00008\n",
    "transmittance = 1 - reflectance - absorbance\n",
    "\n",
    "coFin = 4 * reflectance / (1 - reflectance) ** 2\n",
    "\n",
    "nEff = 1.49 * np.sqrt(coFin)\n",
    "print(\"N_eff (m)\", nEff / 100)"
   ]
  },
  {
   "cell_type": "markdown",
   "metadata": {},
   "source": [
    "## concentration"
   ]
  },
  {
   "cell_type": "code",
   "execution_count": 98,
   "metadata": {},
   "outputs": [
    {
     "name": "stdout",
     "output_type": "stream",
     "text": [
      "1.6779362479030238e-11 mol/liter\n",
      "1.010e+10 molecule/cm^3\n"
     ]
    }
   ],
   "source": [
    "conc = 1e-3 / (nEff * 2e3)\n",
    "print(conc, 'mol/liter')\n",
    "conc *= 6.022e23\n",
    "conc /= 1000\n",
    "print('%0.3e molecule/cm^3' % conc)\n"
   ]
  },
  {
   "cell_type": "markdown",
   "metadata": {},
   "source": [
    "## incident light emerge\n",
    "\n",
    "All of the incident light will either be absorbed or emerge (Assuming the etalon is well tuned to the frequency of incident light)\n",
    "\n",
    "If we assume an absorbance of 1e-3, then the 1e-3 = log(Io/I)\n",
    "equates to 99.77 % of the light emerging"
   ]
  },
  {
   "cell_type": "code",
   "execution_count": null,
   "metadata": {},
   "outputs": [],
   "source": []
  }
 ],
 "metadata": {
  "kernelspec": {
   "display_name": "Python 3",
   "language": "python",
   "name": "python3"
  },
  "language_info": {
   "codemirror_mode": {
    "name": "ipython",
    "version": 3
   },
   "file_extension": ".py",
   "mimetype": "text/x-python",
   "name": "python",
   "nbconvert_exporter": "python",
   "pygments_lexer": "ipython3",
   "version": "3.6.4"
  }
 },
 "nbformat": 4,
 "nbformat_minor": 2
}
