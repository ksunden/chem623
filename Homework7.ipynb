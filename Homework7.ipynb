{
 "cells": [
  {
   "cell_type": "code",
   "execution_count": 133,
   "metadata": {},
   "outputs": [],
   "source": [
    "import numpy as np\n",
    "from matplotlib import pyplot as plt\n",
    "%matplotlib inline"
   ]
  },
  {
   "cell_type": "markdown",
   "metadata": {},
   "source": [
    "# Homework 7 - Dye Lasers\n",
    "\n",
    "## Threshold power"
   ]
  },
  {
   "cell_type": "code",
   "execution_count": 134,
   "metadata": {},
   "outputs": [
    {
     "name": "stdout",
     "output_type": "stream",
     "text": [
      "0.22020270731751948\n"
     ]
    }
   ],
   "source": [
    "pump_pow = 4  # W\n",
    "pump_rad = 3e-2  # m\n",
    "pump_wavelength = 514.5e-9  # m\n",
    "focal_length = 3e-2  # m\n",
    "dye_conc = 4e-4  # M\n",
    "dye_thick = 0.2e-3  # m\n",
    "out_wavelenth = 600e-9  # m\n",
    "rho_cav_loss = 0.2  # dimless\n",
    "tau_sing = 1e-8  # s\n",
    "tau_vib = 1e-12  # s\n",
    "reflectivity = 0.98  # dimless\n",
    "absorbance = 0.0  # dimless\n",
    "transmission = 1 - reflectivity - absorbance  # dimless\n",
    "sigma_s = 1.25e-20  # m^2\n",
    "sigma_p = 1.30e-20  # m^2\n",
    "\n",
    "h = 6.626068e-34  # J s\n",
    "c = 3e8  # m/s\n",
    "\n",
    "rho = -np.log(reflectivity) + rho_cav_loss  # dimless\n",
    "print(rho)\n",
    "\n",
    "NA = 6.022e23  # avogadro, molecules/mol\n",
    "number_density = dye_conc * NA * 1e3  # number/m^3"
   ]
  },
  {
   "cell_type": "code",
   "execution_count": 135,
   "metadata": {},
   "outputs": [
    {
     "name": "stdout",
     "output_type": "stream",
     "text": [
      "57645096.32285636\n",
      "1.9098016405089813e-11\n"
     ]
    }
   ],
   "source": [
    "threshold = rho * 1 / tau_sing / (dye_thick * number_density * sigma_s - rho)\n",
    "print(threshold)\n",
    "print(threshold * h * c / out_wavelenth)"
   ]
  },
  {
   "cell_type": "markdown",
   "metadata": {},
   "source": [
    "## power vs. pump power"
   ]
  },
  {
   "cell_type": "code",
   "execution_count": 125,
   "metadata": {},
   "outputs": [],
   "source": [
    "pump_pow = np.linspace(0, 0.6, 1000)  # W\n",
    "\n",
    "n_out = transmission * (pump_pow * pump_wavelength / h / c *\n",
    "                        (dye_thick * number_density * sigma_s - rho)\n",
    "                        / rho / sigma_s - 1/tau_sing / sigma_s)"
   ]
  },
  {
   "cell_type": "code",
   "execution_count": 126,
   "metadata": {},
   "outputs": [
    {
     "data": {
      "text/plain": [
       "[<matplotlib.lines.Line2D at 0x7f6b68e74908>]"
      ]
     },
     "execution_count": 126,
     "metadata": {},
     "output_type": "execute_result"
    },
    {
     "data": {
      "image/png": "[encoded data removed]",
      "text/plain": [
       "<matplotlib.figure.Figure at 0x7f6b693a6390>"
      ]
     },
     "metadata": {},
     "output_type": "display_data"
    }
   ],
   "source": [
    "plt.plot(pump_pow, n_out * h * c / out_wavelenth * sigma_s)"
   ]
  },
  {
   "cell_type": "code",
   "execution_count": 129,
   "metadata": {},
   "outputs": [
    {
     "name": "stdout",
     "output_type": "stream",
     "text": [
      "0.11900405129936112\n"
     ]
    }
   ],
   "source": [
    "pump_pow = 4  # W\n",
    "n_out = transmission * (pump_pow * pump_wavelength / h / c *\n",
    "                        (dye_thick * number_density * sigma_s - rho)\n",
    "                        / rho / sigma_s - 1/tau_sing / sigma_s)\n",
    "print(n_out * h * c / out_wavelenth * sigma_s)"
   ]
  },
  {
   "cell_type": "markdown",
   "metadata": {},
   "source": [
    "## Power vs. mirror reflectivity"
   ]
  },
  {
   "cell_type": "code",
   "execution_count": 131,
   "metadata": {},
   "outputs": [],
   "source": [
    "reflectivity = np.linspace(0.5, 1, 1000)\n",
    "transmission = 1 - reflectivity - absorbance  # dimless\n",
    "rho = -np.log(reflectivity) + rho_cav_loss  # dimless\n",
    "n_out = transmission * (pump_pow * pump_wavelength / h / c *\n",
    "                        (dye_thick * number_density * sigma_s - rho)\n",
    "                        / rho / sigma_s - 1/tau_sing / sigma_s)"
   ]
  },
  {
   "cell_type": "code",
   "execution_count": 132,
   "metadata": {},
   "outputs": [
    {
     "data": {
      "text/plain": [
       "[<matplotlib.lines.Line2D at 0x7f6b691e5160>]"
      ]
     },
     "execution_count": 132,
     "metadata": {},
     "output_type": "execute_result"
    },
    {
     "data": {
      "image/png": "[encoded data removed]",
      "text/plain": [
       "<matplotlib.figure.Figure at 0x7f6b6926d8d0>"
      ]
     },
     "metadata": {},
     "output_type": "display_data"
    }
   ],
   "source": [
    "plt.plot(reflectivity, n_out * h * c / out_wavelenth * sigma_s)"
   ]
  },
  {
   "cell_type": "code",
   "execution_count": 122,
   "metadata": {},
   "outputs": [
    {
     "data": {
      "text/plain": [
       "0.8563563563563563"
      ]
     },
     "execution_count": 122,
     "metadata": {},
     "output_type": "execute_result"
    }
   ],
   "source": [
    "reflectivity[np.argmax(n_out)]"
   ]
  },
  {
   "cell_type": "markdown",
   "metadata": {},
   "source": [
    "## Excited state absorption\n",
    "\n",
    "Excited state absorption would scale with the output power, increasing the cavity loss term (not as fast as the gains, but still). Additionally, the number density would be a function of the triplet state population. A triplet state quencher would reduce the population of the triplet state, reducing it's number density, and therefore lowering the absorptive cavity losses. This would lower the threshold power, and increase the gain, causing less reflective mirrors to be optimum."
   ]
  },
  {
   "cell_type": "code",
   "execution_count": null,
   "metadata": {},
   "outputs": [],
   "source": []
  },
  {
   "cell_type": "code",
   "execution_count": null,
   "metadata": {},
   "outputs": [],
   "source": []
  }
 ],
 "metadata": {
  "kernelspec": {
   "display_name": "Python 3",
   "language": "python",
   "name": "python3"
  },
  "language_info": {
   "codemirror_mode": {
    "name": "ipython",
    "version": 3
   },
   "file_extension": ".py",
   "mimetype": "text/x-python",
   "name": "python",
   "nbconvert_exporter": "python",
   "pygments_lexer": "ipython3",
   "version": "3.6.4"
  }
 },
 "nbformat": 4,
 "nbformat_minor": 2
}
